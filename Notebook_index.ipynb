{
 "cells": [
  {
   "cell_type": "markdown",
   "metadata": {},
   "source": [
    "# Calling Yahoo finance Stock extraction Package"
   ]
  },
  {
   "cell_type": "code",
   "execution_count": null,
   "metadata": {},
   "outputs": [],
   "source": [
    "import sys\n",
    "# Remove the module from sys.modules\n",
    "if 'scripts.yahoofinance' in sys.modules:\n",
    "    del sys.modules['scripts.yahoofinance']\n",
    "\n",
    "# Re-import the module\n",
    "import scripts.yahoofinance"
   ]
  },
  {
   "cell_type": "markdown",
   "metadata": {},
   "source": [
    "# Calling Buy/Sell Fuction Package"
   ]
  },
  {
   "cell_type": "code",
   "execution_count": null,
   "metadata": {},
   "outputs": [],
   "source": [
    "import sys\n",
    "# Remove the module from sys.modules\n",
    "if 'scripts.buysellfx' in sys.modules:\n",
    "    del sys.modules['scripts.buysellfx']\n",
    "\n",
    "# Re-import the module\n",
    "import scripts.buysellfx"
   ]
  },
  {
   "cell_type": "markdown",
   "metadata": {},
   "source": [
    "# Calling Chart Creation Package"
   ]
  },
  {
   "cell_type": "code",
   "execution_count": null,
   "metadata": {},
   "outputs": [],
   "source": [
    "import sys\n",
    "# Remove the module from sys.modules\n",
    "if 'scripts.charts_export' in sys.modules:\n",
    "    del sys.modules['scripts.charts_export']\n",
    "\n",
    "# Re-import the module\n",
    "import scripts.charts_export"
   ]
  },
  {
   "cell_type": "markdown",
   "metadata": {},
   "source": [
    "# Calling Excel Export Package"
   ]
  },
  {
   "cell_type": "code",
   "execution_count": null,
   "metadata": {},
   "outputs": [],
   "source": [
    "import sys\n",
    "# Remove the module from sys.modules\n",
    "if 'scripts.excel_export' in sys.modules:\n",
    "    del sys.modules['scripts.excel_export']\n",
    "\n",
    "# Re-import the module\n",
    "import scripts.excel_export"
   ]
  },
  {
   "cell_type": "markdown",
   "metadata": {},
   "source": [
    "# Calling Send email package"
   ]
  },
  {
   "cell_type": "code",
   "execution_count": null,
   "metadata": {},
   "outputs": [],
   "source": [
    "#Note:Emails requires Client Ids and Secret key for Microsoft Azure\n",
    "#See pw-config-copy.ini' in the 01-config directory, rename to 'pw.config.ini' and add needed credentials and keys.\n",
    "\n",
    "import sys\n",
    "# Remove the module from sys.modules\n",
    "if 'scripts.sendemail' in sys.modules:\n",
    "    del sys.modules['scripts.sendemail']\n",
    "\n",
    "# Re-import the module\n",
    "import scripts.sendemail"
   ]
  },
  {
   "cell_type": "code",
   "execution_count": null,
   "metadata": {},
   "outputs": [],
   "source": [
    "# Import functions from your custom modules.\n",
    "from scripts.yahoofinance import create_dataframe\n",
    "from scripts.buysellfx import buysellfx\n",
    "from scripts.charts_export import plot_stock_signals,new_plot_stock_signals\n",
    "from scripts.excel_export import export_df_to_excel_with_chart\n",
    "from EmailBody.emailbody import generate_email_body\n",
    "from scripts.sendemail import send_email\n",
    "\n",
    "stock='AMZN'\n",
    "email=[\"dan@y-data.co\"]\n",
    "\n",
    "data=create_dataframe(stock)\n",
    "print(data.dtypes)\n",
    "\n",
    "fx=buysellfx(data)\n",
    "print(data.dtypes)\n",
    "\n",
    "newchart=new_plot_stock_signals(df=fx,tickerSymbol=stock)\n",
    "chart=plot_stock_signals(df=fx,tickerSymbol=stock)\n",
    "export=export_df_to_excel_with_chart(df=fx,tickerSymbol=stock)\n",
    "\n",
    "\n",
    "#Body=generate_email_body(tickerSymbol=stock)\n",
    "#send=send_email(email_body=Body,recipient_emails=email)\n",
    "\n",
    "\n"
   ]
  },
  {
   "cell_type": "code",
   "execution_count": null,
   "metadata": {},
   "outputs": [],
   "source": [
    "# Import necessary libraries\n",
    "import plotly.graph_objects as go\n",
    "import numpy as np\n",
    "\n",
    "# Generate some data\n",
    "x = np.linspace(0, 10, 100)\n",
    "y = np.sin(x)\n",
    "\n",
    "# Create a line chart\n",
    "fig = go.Figure(data=go.Scatter(x=x, y=y, mode='lines+markers'))\n",
    "\n",
    "# Customize layout\n",
    "fig.update_layout(title='Interactive Line Chart with Plotly',\n",
    "                  xaxis_title='X Axis Title',\n",
    "                  yaxis_title='Y Axis Title')\n",
    "\n",
    "# Show the figure\n",
    "fig.show()\n"
   ]
  },
  {
   "cell_type": "code",
   "execution_count": 1,
   "metadata": {},
   "outputs": [
    {
     "name": "stdout",
     "output_type": "stream",
     "text": [
      "\u001b[H\u001b[2J\n",
      "\n",
      "1.1) starting stock data extraction\n",
      "~~~~~~~~~~~~~\n",
      "Open            float64\n",
      "High            float64\n",
      "Low             float64\n",
      "Close           float64\n",
      "Volume            int64\n",
      "Dividends       float64\n",
      "Stock Splits    float64\n",
      "dtype: object\n",
      "~~~~~~~~~~~~~\n",
      "\n",
      "1.2) Extraction completed\n",
      "\n",
      "Open            float64\n",
      "High            float64\n",
      "Low             float64\n",
      "Close           float64\n",
      "Volume            int64\n",
      "Dividends       float64\n",
      "Stock Splits    float64\n",
      "dtype: object\n",
      "2.2) adding rolling averages\n",
      "Open            float64\n",
      "High            float64\n",
      "Low             float64\n",
      "Close           float64\n",
      "Volume            int64\n",
      "Dividends       float64\n",
      "Stock Splits    float64\n",
      "close_short     float64\n",
      "close_long      float64\n",
      "pricebuy        float64\n",
      "pricesell       float64\n",
      "profit          float64\n",
      "transdays       float64\n",
      "dtype: object\n",
      "                  Open        High         Low       Close    Volume  \\\n",
      "Date                                                                   \n",
      "2023-02-27  250.404876  250.761946  247.359860  248.123596  21190000   \n",
      "2023-02-28  247.042476  249.442775  246.705232  247.389618  22491000   \n",
      "2023-03-01  248.718683  248.887297  243.789140  244.265244  27565300   \n",
      "2023-03-02  244.542965  249.353474  243.610614  249.065842  24808200   \n",
      "2023-03-03  250.137052  253.539123  249.343561  253.211807  30760100   \n",
      "\n",
      "            Dividends  Stock Splits  close_short  close_long  pricebuy  \\\n",
      "Date                                                                     \n",
      "2023-02-27        0.0           0.0          NaN         NaN       NaN   \n",
      "2023-02-28        0.0           0.0          NaN         NaN       NaN   \n",
      "2023-03-01        0.0           0.0          NaN         NaN       NaN   \n",
      "2023-03-02        0.0           0.0          NaN         NaN       NaN   \n",
      "2023-03-03        0.0           0.0   248.411221         NaN       NaN   \n",
      "\n",
      "            pricesell  profit  transdays  \n",
      "Date                                      \n",
      "2023-02-27        NaN     NaN        NaN  \n",
      "2023-02-28        NaN     NaN        NaN  \n",
      "2023-03-01        NaN     NaN        NaN  \n",
      "2023-03-02        NaN     NaN        NaN  \n",
      "2023-03-03        NaN     NaN        NaN  \n",
      "\u001b[H\u001b[2J\n",
      "\n",
      "1.1) starting stock data extraction\n",
      "~~~~~~~~~~~~~\n",
      "Open            float64\n",
      "High            float64\n",
      "Low             float64\n",
      "Close           float64\n",
      "Volume            int64\n",
      "Dividends       float64\n",
      "Stock Splits    float64\n",
      "dtype: object\n",
      "~~~~~~~~~~~~~\n",
      "\n",
      "1.2) Extraction completed\n",
      "\n",
      "Open            float64\n",
      "High            float64\n",
      "Low             float64\n",
      "Close           float64\n",
      "Volume            int64\n",
      "Dividends       float64\n",
      "Stock Splits    float64\n",
      "dtype: object\n",
      "2.2) adding rolling averages\n",
      "Open            float64\n",
      "High            float64\n",
      "Low             float64\n",
      "Close           float64\n",
      "Volume            int64\n",
      "Dividends       float64\n",
      "Stock Splits    float64\n",
      "close_short     float64\n",
      "close_long      float64\n",
      "pricebuy        float64\n",
      "pricesell       float64\n",
      "profit          float64\n",
      "transdays       float64\n",
      "dtype: object\n",
      "3.1) load final dataframe\n",
      "\n",
      "~~~~~~~~~~~~~\n",
      "Open            float64\n",
      "High            float64\n",
      "Low             float64\n",
      "Close           float64\n",
      "Volume            int64\n",
      "Dividends       float64\n",
      "Stock Splits    float64\n",
      "close_short     float64\n",
      "close_long      float64\n",
      "pricebuy        float64\n",
      "pricesell       float64\n",
      "profit          float64\n",
      "transdays       float64\n",
      "dtype: object\n",
      "~~~~~~~~~~~~~\n"
     ]
    }
   ],
   "source": [
    "# Import functions from your custom modules.\n",
    "from scripts.yahoofinance import create_dataframe\n",
    "from scripts.buysellfx import buysellfx\n",
    "from scripts.charts_export import interactive_plot_stock_signals\n",
    "from scripts.excel_export import export_df_to_excel_with_chart\n",
    "from EmailBody.emailbody import generate_email_body\n",
    "\n",
    "stock='AMZN'\n",
    "email=[\"dan@y-data.co\"]\n",
    "\n",
    "data=create_dataframe(stock)\n",
    "print(data.dtypes)\n",
    "\n",
    "fx=buysellfx(data)\n",
    "\n",
    "chart=interactive_plot_stock_signals(df=fx,tickerSymbol=stock)"
   ]
  }
 ],
 "metadata": {
  "kernelspec": {
   "display_name": "Python 3",
   "language": "python",
   "name": "python3"
  },
  "language_info": {
   "codemirror_mode": {
    "name": "ipython",
    "version": 3
   },
   "file_extension": ".py",
   "mimetype": "text/x-python",
   "name": "python",
   "nbconvert_exporter": "python",
   "pygments_lexer": "ipython3",
   "version": "3.11.2"
  }
 },
 "nbformat": 4,
 "nbformat_minor": 2
}
