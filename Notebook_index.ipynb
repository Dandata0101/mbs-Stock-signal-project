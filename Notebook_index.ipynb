{
 "cells": [
  {
   "cell_type": "markdown",
   "metadata": {},
   "source": [
    "# Calling Yahoo finance Stock extraction Package"
   ]
  },
  {
   "cell_type": "code",
   "execution_count": null,
   "metadata": {},
   "outputs": [],
   "source": [
    "import sys\n",
    "# Remove the module from sys.modules\n",
    "if 'scripts.yahoofinance' in sys.modules:\n",
    "    del sys.modules['scripts.yahoofinance']\n",
    "\n",
    "# Re-import the module\n",
    "import scripts.yahoofinance"
   ]
  },
  {
   "cell_type": "markdown",
   "metadata": {},
   "source": [
    "# Calling Buy/Sell Fuction Package"
   ]
  },
  {
   "cell_type": "code",
   "execution_count": null,
   "metadata": {},
   "outputs": [],
   "source": [
    "import sys\n",
    "# Remove the module from sys.modules\n",
    "if 'scripts.buysellfx' in sys.modules:\n",
    "    del sys.modules['scripts.buysellfx']\n",
    "\n",
    "# Re-import the module\n",
    "import scripts.buysellfx"
   ]
  },
  {
   "cell_type": "markdown",
   "metadata": {},
   "source": [
    "# Calling Chart Creation Package"
   ]
  },
  {
   "cell_type": "code",
   "execution_count": null,
   "metadata": {},
   "outputs": [],
   "source": [
    "import sys\n",
    "# Remove the module from sys.modules\n",
    "if 'scripts.charts_export' in sys.modules:\n",
    "    del sys.modules['scripts.charts_export']\n",
    "\n",
    "# Re-import the module\n",
    "import scripts.charts_export"
   ]
  },
  {
   "cell_type": "markdown",
   "metadata": {},
   "source": [
    "# Calling Excel Export Package"
   ]
  },
  {
   "cell_type": "code",
   "execution_count": null,
   "metadata": {},
   "outputs": [],
   "source": [
    "import sys\n",
    "# Remove the module from sys.modules\n",
    "if 'scripts.excel_export' in sys.modules:\n",
    "    del sys.modules['scripts.excel_export']\n",
    "\n",
    "# Re-import the module\n",
    "import scripts.excel_export"
   ]
  },
  {
   "cell_type": "markdown",
   "metadata": {},
   "source": [
    "# Calling Send email package"
   ]
  },
  {
   "cell_type": "code",
   "execution_count": null,
   "metadata": {},
   "outputs": [],
   "source": [
    "#Note:Emails requires Client Ids and Secret key for Microsoft Azure\n",
    "#See pw-config-copy.ini' in the 01-config directory, rename to 'pw.config.ini' and add needed credentials and keys.\n",
    "\n",
    "import sys\n",
    "# Remove the module from sys.modules\n",
    "if 'scripts.sendemail' in sys.modules:\n",
    "    del sys.modules['scripts.sendemail']\n",
    "\n",
    "# Re-import the module\n",
    "import scripts.sendemail"
   ]
  },
  {
   "cell_type": "code",
   "execution_count": null,
   "metadata": {},
   "outputs": [],
   "source": [
    "# Import functions from your custom modules.\n",
    "from scripts.yahoofinance import create_dataframe\n",
    "from scripts.buysellfx import buysellfx\n",
    "from scripts.charts_export import plot_stock_signals,new_plot_stock_signals\n",
    "from scripts.excel_export import export_df_to_excel_with_chart\n",
    "from EmailBody.emailbody import generate_email_body\n",
    "from scripts.sendemail import send_email\n",
    "\n",
    "stock='AMZN'\n",
    "email=[\"dan@y-data.co\"]\n",
    "\n",
    "data=create_dataframe(stock)\n",
    "print(data.dtypes)\n",
    "\n",
    "fx=buysellfx(data)\n",
    "print(data.dtypes)\n",
    "\n",
    "newchart=new_plot_stock_signals(df=fx,tickerSymbol=stock)\n",
    "chart=plot_stock_signals(df=fx,tickerSymbol=stock)\n",
    "export=export_df_to_excel_with_chart(df=fx,tickerSymbol=stock)\n",
    "\n",
    "\n",
    "#Body=generate_email_body(tickerSymbol=stock)\n",
    "#send=send_email(email_body=Body,recipient_emails=email)\n",
    "\n",
    "\n"
   ]
  },
  {
   "cell_type": "code",
   "execution_count": null,
   "metadata": {},
   "outputs": [],
   "source": [
    "# Import necessary libraries\n",
    "import plotly.graph_objects as go\n",
    "import numpy as np\n",
    "\n",
    "# Generate some data\n",
    "x = np.linspace(0, 10, 100)\n",
    "y = np.sin(x)\n",
    "\n",
    "# Create a line chart\n",
    "fig = go.Figure(data=go.Scatter(x=x, y=y, mode='lines+markers'))\n",
    "\n",
    "# Customize layout\n",
    "fig.update_layout(title='Interactive Line Chart with Plotly',\n",
    "                  xaxis_title='X Axis Title',\n",
    "                  yaxis_title='Y Axis Title')\n",
    "\n",
    "# Show the figure\n",
    "fig.show()\n"
   ]
  },
  {
   "cell_type": "code",
   "execution_count": 1,
   "metadata": {},
   "outputs": [
    {
     "name": "stdout",
     "output_type": "stream",
     "text": [
      "\u001b[H\u001b[2J\n",
      "\n",
      "1.1) starting stock data extraction\n",
      "~~~~~~~~~~~~~\n",
      "Open            float64\n",
      "High            float64\n",
      "Low             float64\n",
      "Close           float64\n",
      "Volume            int64\n",
      "Dividends       float64\n",
      "Stock Splits    float64\n",
      "dtype: object\n",
      "~~~~~~~~~~~~~\n",
      "\n",
      "1.2) Extraction completed\n",
      "\n",
      "Open            float64\n",
      "High            float64\n",
      "Low             float64\n",
      "Close           float64\n",
      "Volume            int64\n",
      "Dividends       float64\n",
      "Stock Splits    float64\n",
      "dtype: object\n",
      "2.2) adding rolling averages\n",
      "Open            float64\n",
      "High            float64\n",
      "Low             float64\n",
      "Close           float64\n",
      "Volume            int64\n",
      "Dividends       float64\n",
      "Stock Splits    float64\n",
      "close_short     float64\n",
      "close_long      float64\n",
      "pricebuy        float64\n",
      "pricesell       float64\n",
      "profit          float64\n",
      "transdays       float64\n",
      "dtype: object\n",
      "                  Open        High         Low       Close    Volume  \\\n",
      "Date                                                                   \n",
      "2023-02-27  250.404861  250.761931  247.359845  248.123581  21190000   \n",
      "2023-02-28  247.042461  249.442759  246.705217  247.389603  22491000   \n",
      "2023-03-01  248.718683  248.887297  243.789140  244.265244  27565300   \n",
      "2023-03-02  244.542965  249.353474  243.610614  249.065842  24808200   \n",
      "2023-03-03  250.137052  253.539123  249.343561  253.211807  30760100   \n",
      "\n",
      "            Dividends  Stock Splits  close_short  close_long  pricebuy  \\\n",
      "Date                                                                     \n",
      "2023-02-27        0.0           0.0          NaN         NaN       NaN   \n",
      "2023-02-28        0.0           0.0          NaN         NaN       NaN   \n",
      "2023-03-01        0.0           0.0          NaN         NaN       NaN   \n",
      "2023-03-02        0.0           0.0          NaN         NaN       NaN   \n",
      "2023-03-03        0.0           0.0   248.411215         NaN       NaN   \n",
      "\n",
      "            pricesell  profit  transdays  \n",
      "Date                                      \n",
      "2023-02-27        NaN     NaN        NaN  \n",
      "2023-02-28        NaN     NaN        NaN  \n",
      "2023-03-01        NaN     NaN        NaN  \n",
      "2023-03-02        NaN     NaN        NaN  \n",
      "2023-03-03        NaN     NaN        NaN  \n",
      "\u001b[H\u001b[2J\n",
      "\n",
      "1.1) starting stock data extraction\n",
      "~~~~~~~~~~~~~\n",
      "Open            float64\n",
      "High            float64\n",
      "Low             float64\n",
      "Close           float64\n",
      "Volume            int64\n",
      "Dividends       float64\n",
      "Stock Splits    float64\n",
      "dtype: object\n",
      "~~~~~~~~~~~~~\n",
      "\n",
      "1.2) Extraction completed\n",
      "\n",
      "Open            float64\n",
      "High            float64\n",
      "Low             float64\n",
      "Close           float64\n",
      "Volume            int64\n",
      "Dividends       float64\n",
      "Stock Splits    float64\n",
      "dtype: object\n",
      "2.2) adding rolling averages\n",
      "Open            float64\n",
      "High            float64\n",
      "Low             float64\n",
      "Close           float64\n",
      "Volume            int64\n",
      "Dividends       float64\n",
      "Stock Splits    float64\n",
      "close_short     float64\n",
      "close_long      float64\n",
      "pricebuy        float64\n",
      "pricesell       float64\n",
      "profit          float64\n",
      "transdays       float64\n",
      "dtype: object\n",
      "3.1) load final dataframe\n",
      "\n",
      "~~~~~~~~~~~~~\n",
      "Open            float64\n",
      "High            float64\n",
      "Low             float64\n",
      "Close           float64\n",
      "Volume            int64\n",
      "Dividends       float64\n",
      "Stock Splits    float64\n",
      "close_short     float64\n",
      "close_long      float64\n",
      "pricebuy        float64\n",
      "pricesell       float64\n",
      "profit          float64\n",
      "transdays       float64\n",
      "dtype: object\n",
      "~~~~~~~~~~~~~\n"
     ]
    },
    {
     "data": {
      "application/vnd.plotly.v1+json": {
       "config": {
        "plotlyServerURL": "https://plot.ly"
       },
       "data": [
        {
         "mode": "lines",
         "name": "AMZN",
         "type": "scatter",
         "x": [
          "2023-02-27",
          "2023-02-28",
          "2023-03-01",
          "2023-03-02",
          "2023-03-03",
          "2023-03-06",
          "2023-03-07",
          "2023-03-08",
          "2023-03-09",
          "2023-03-10",
          "2023-03-13",
          "2023-03-14",
          "2023-03-15",
          "2023-03-16",
          "2023-03-17",
          "2023-03-20",
          "2023-03-21",
          "2023-03-22",
          "2023-03-23",
          "2023-03-24",
          "2023-03-27",
          "2023-03-28",
          "2023-03-29",
          "2023-03-30",
          "2023-03-31",
          "2023-04-03",
          "2023-04-04",
          "2023-04-05",
          "2023-04-06",
          "2023-04-10",
          "2023-04-11",
          "2023-04-12",
          "2023-04-13",
          "2023-04-14",
          "2023-04-17",
          "2023-04-18",
          "2023-04-19",
          "2023-04-20",
          "2023-04-21",
          "2023-04-24",
          "2023-04-25",
          "2023-04-26",
          "2023-04-27",
          "2023-04-28",
          "2023-05-01",
          "2023-05-02",
          "2023-05-03",
          "2023-05-04",
          "2023-05-05",
          "2023-05-08",
          "2023-05-09",
          "2023-05-10",
          "2023-05-11",
          "2023-05-12",
          "2023-05-15",
          "2023-05-16",
          "2023-05-17",
          "2023-05-18",
          "2023-05-19",
          "2023-05-22",
          "2023-05-23",
          "2023-05-24",
          "2023-05-25",
          "2023-05-26",
          "2023-05-30",
          "2023-05-31",
          "2023-06-01",
          "2023-06-02",
          "2023-06-05",
          "2023-06-06",
          "2023-06-07",
          "2023-06-08",
          "2023-06-09",
          "2023-06-12",
          "2023-06-13",
          "2023-06-14",
          "2023-06-15",
          "2023-06-16",
          "2023-06-20",
          "2023-06-21",
          "2023-06-22",
          "2023-06-23",
          "2023-06-26",
          "2023-06-27",
          "2023-06-28",
          "2023-06-29",
          "2023-06-30",
          "2023-07-03",
          "2023-07-05",
          "2023-07-06",
          "2023-07-07",
          "2023-07-10",
          "2023-07-11",
          "2023-07-12",
          "2023-07-13",
          "2023-07-14",
          "2023-07-17",
          "2023-07-18",
          "2023-07-19",
          "2023-07-20",
          "2023-07-21",
          "2023-07-24",
          "2023-07-25",
          "2023-07-26",
          "2023-07-27",
          "2023-07-28",
          "2023-07-31",
          "2023-08-01",
          "2023-08-02",
          "2023-08-03",
          "2023-08-04",
          "2023-08-07",
          "2023-08-08",
          "2023-08-09",
          "2023-08-10",
          "2023-08-11",
          "2023-08-14",
          "2023-08-15",
          "2023-08-16",
          "2023-08-17",
          "2023-08-18",
          "2023-08-21",
          "2023-08-22",
          "2023-08-23",
          "2023-08-24",
          "2023-08-25",
          "2023-08-28",
          "2023-08-29",
          "2023-08-30",
          "2023-08-31",
          "2023-09-01",
          "2023-09-05",
          "2023-09-06",
          "2023-09-07",
          "2023-09-08",
          "2023-09-11",
          "2023-09-12",
          "2023-09-13",
          "2023-09-14",
          "2023-09-15",
          "2023-09-18",
          "2023-09-19",
          "2023-09-20",
          "2023-09-21",
          "2023-09-22",
          "2023-09-25",
          "2023-09-26",
          "2023-09-27",
          "2023-09-28",
          "2023-09-29",
          "2023-10-02",
          "2023-10-03",
          "2023-10-04",
          "2023-10-05",
          "2023-10-06",
          "2023-10-09",
          "2023-10-10",
          "2023-10-11",
          "2023-10-12",
          "2023-10-13",
          "2023-10-16",
          "2023-10-17",
          "2023-10-18",
          "2023-10-19",
          "2023-10-20",
          "2023-10-23",
          "2023-10-24",
          "2023-10-25",
          "2023-10-26",
          "2023-10-27",
          "2023-10-30",
          "2023-10-31",
          "2023-11-01",
          "2023-11-02",
          "2023-11-03",
          "2023-11-06",
          "2023-11-07",
          "2023-11-08",
          "2023-11-09",
          "2023-11-10",
          "2023-11-13",
          "2023-11-14",
          "2023-11-15",
          "2023-11-16",
          "2023-11-17",
          "2023-11-20",
          "2023-11-21",
          "2023-11-22",
          "2023-11-24",
          "2023-11-27",
          "2023-11-28",
          "2023-11-29",
          "2023-11-30",
          "2023-12-01",
          "2023-12-04",
          "2023-12-05",
          "2023-12-06",
          "2023-12-07",
          "2023-12-08",
          "2023-12-11",
          "2023-12-12",
          "2023-12-13",
          "2023-12-14",
          "2023-12-15",
          "2023-12-18",
          "2023-12-19",
          "2023-12-20",
          "2023-12-21",
          "2023-12-22",
          "2023-12-26",
          "2023-12-27",
          "2023-12-28",
          "2023-12-29",
          "2024-01-02",
          "2024-01-03",
          "2024-01-04",
          "2024-01-05",
          "2024-01-08",
          "2024-01-09",
          "2024-01-10",
          "2024-01-11",
          "2024-01-12",
          "2024-01-16",
          "2024-01-17",
          "2024-01-18",
          "2024-01-19",
          "2024-01-22",
          "2024-01-23",
          "2024-01-24",
          "2024-01-25",
          "2024-01-26",
          "2024-01-29",
          "2024-01-30",
          "2024-01-31",
          "2024-02-01",
          "2024-02-02",
          "2024-02-05",
          "2024-02-06",
          "2024-02-07",
          "2024-02-08",
          "2024-02-09",
          "2024-02-12",
          "2024-02-13",
          "2024-02-14",
          "2024-02-15",
          "2024-02-16",
          "2024-02-20",
          "2024-02-21",
          "2024-02-22",
          "2024-02-23",
          "2024-02-26"
         ],
         "y": [
          93.76000213623047,
          94.2300033569336,
          92.16999816894531,
          92.12999725341797,
          94.9000015258789,
          93.75,
          93.55000305175781,
          93.91999816894531,
          92.25,
          90.7300033569336,
          92.43000030517578,
          94.87999725341797,
          96.19999694824219,
          100.04000091552734,
          98.94999694824219,
          97.70999908447266,
          100.61000061035156,
          98.69999694824219,
          98.70999908447266,
          98.12999725341797,
          98.04000091552734,
          97.23999786376953,
          100.25,
          102,
          103.29000091552734,
          102.41000366210938,
          103.94999694824219,
          101.0999984741211,
          102.05999755859375,
          102.16999816894531,
          99.91999816894531,
          97.83000183105469,
          102.4000015258789,
          102.51000213623047,
          102.73999786376953,
          102.30000305175781,
          104.30000305175781,
          103.80999755859375,
          106.95999908447266,
          106.20999908447266,
          102.56999969482422,
          104.9800033569336,
          109.81999969482422,
          105.44999694824219,
          102.05000305175781,
          103.62999725341797,
          103.6500015258789,
          104,
          105.66000366210938,
          105.83000183105469,
          106.62000274658203,
          110.19000244140625,
          112.18000030517578,
          110.26000213623047,
          111.19999694824219,
          113.4000015258789,
          115.5,
          118.1500015258789,
          116.25,
          115.01000213623047,
          114.98999786376953,
          116.75,
          115,
          120.11000061035156,
          121.66000366210938,
          120.58000183105469,
          122.7699966430664,
          124.25,
          125.30000305175781,
          126.61000061035156,
          121.2300033569336,
          124.25,
          123.43000030517578,
          126.56999969482422,
          126.66000366210938,
          126.41999816894531,
          127.11000061035156,
          125.48999786376953,
          125.77999877929688,
          124.83000183105469,
          130.14999389648438,
          129.3300018310547,
          127.33000183105469,
          129.17999267578125,
          129.0399932861328,
          127.9000015258789,
          130.36000061035156,
          130.22000122070312,
          130.3800048828125,
          128.36000061035156,
          129.77999877929688,
          127.12999725341797,
          128.77999877929688,
          130.8000030517578,
          134.3000030517578,
          134.67999267578125,
          133.55999755859375,
          132.8300018310547,
          135.36000061035156,
          129.9600067138672,
          130,
          128.8000030517578,
          129.1300048828125,
          128.14999389648438,
          128.25,
          132.2100067138672,
          133.67999267578125,
          131.69000244140625,
          128.2100067138672,
          128.91000366210938,
          139.57000732421875,
          142.22000122070312,
          139.94000244140625,
          137.85000610351562,
          138.55999755859375,
          138.41000366210938,
          140.57000732421875,
          137.6699981689453,
          135.07000732421875,
          133.97999572753906,
          133.22000122070312,
          134.67999267578125,
          134.25,
          135.52000427246094,
          131.83999633789062,
          133.25999450683594,
          133.13999938964844,
          134.91000366210938,
          135.07000732421875,
          138.00999450683594,
          138.1199951171875,
          137.27000427246094,
          135.36000061035156,
          137.85000610351562,
          138.22999572753906,
          143.10000610351562,
          141.22999572753906,
          144.85000610351562,
          144.72000122070312,
          140.38999938964844,
          139.97999572753906,
          137.6300048828125,
          135.2899932861328,
          129.3300018310547,
          129.1199951171875,
          131.27000427246094,
          125.9800033569336,
          125.9800033569336,
          125.9800033569336,
          127.12000274658203,
          129.4600067138672,
          124.72000122070312,
          127,
          125.95999908447266,
          127.95999908447266,
          128.25999450683594,
          129.47999572753906,
          131.8300018310547,
          132.3300018310547,
          129.7899932861328,
          132.5500030517578,
          131.47000122070312,
          128.1300048828125,
          128.39999389648438,
          125.16999816894531,
          126.55999755859375,
          128.55999755859375,
          121.38999938964844,
          119.56999969482422,
          127.73999786376953,
          132.7100067138672,
          133.08999633789062,
          137,
          138.07000732421875,
          138.60000610351562,
          139.74000549316406,
          142.7100067138672,
          142.0800018310547,
          140.60000610351562,
          143.55999755859375,
          142.58999633789062,
          145.8000030517578,
          143.1999969482422,
          142.8300018310547,
          145.17999267578125,
          146.1300048828125,
          143.89999389648438,
          146.7100067138672,
          146.74000549316406,
          147.72999572753906,
          147.02999877929688,
          146.32000732421875,
          146.08999633789062,
          147.02999877929688,
          144.83999633789062,
          146.8800048828125,
          144.52000427246094,
          146.8800048828125,
          147.4199981689453,
          145.88999938964844,
          147.47999572753906,
          148.83999633789062,
          147.4199981689453,
          149.97000122070312,
          154.07000732421875,
          153.7899932861328,
          152.1199951171875,
          153.83999633789062,
          153.4199981689453,
          153.41000366210938,
          153.33999633789062,
          153.3800048828125,
          151.94000244140625,
          149.92999267578125,
          148.47000122070312,
          144.57000732421875,
          145.24000549316406,
          149.10000610351562,
          151.3699951171875,
          153.72999572753906,
          155.17999267578125,
          154.6199951171875,
          153.16000366210938,
          151.7100067138672,
          153.5,
          155.33999633789062,
          154.77999877929688,
          156.02000427246094,
          156.8699951171875,
          157.75,
          159.1199951171875,
          161.25999450683594,
          159,
          155.1999969482422,
          159.27999877929688,
          171.80999755859375,
          170.30999755859375,
          169.14999389648438,
          170.52999877929688,
          169.83999633789062,
          174.4499969482422,
          172.33999633789062,
          168.63999938964844,
          170.97999572753906,
          169.8000030517578,
          169.50999450683594,
          167.0800018310547,
          168.58999633789062,
          174.5800018310547,
          174.99000549316406,
          174.72999572753906
         ]
        },
        {
         "marker": {
          "color": "green",
          "size": 10,
          "symbol": "triangle-up"
         },
         "mode": "markers",
         "name": "Buy Signal",
         "type": "scatter",
         "x": [
          "2023-03-24",
          "2023-08-02",
          "2023-09-05",
          "2023-10-13",
          "2023-11-01",
          "2024-01-12"
         ],
         "y": [
          99.06999969482422,
          127.4800033569336,
          136.32000732421875,
          130.69000244140625,
          138.72999572753906,
          153.52999877929688
         ]
        },
        {
         "marker": {
          "color": "red",
          "size": 10,
          "symbol": "triangle-down"
         },
         "mode": "markers",
         "name": "Sell Signal",
         "type": "scatter",
         "x": [
          "2023-07-26",
          "2023-08-22",
          "2023-09-21",
          "2023-10-23",
          "2024-01-04"
         ],
         "y": [
          131,
          134.5,
          131.11000061035156,
          127.73999786376953,
          144.69000244140625
         ]
        }
       ],
       "layout": {
        "height": 600,
        "template": {
         "data": {
          "bar": [
           {
            "error_x": {
             "color": "#2a3f5f"
            },
            "error_y": {
             "color": "#2a3f5f"
            },
            "marker": {
             "line": {
              "color": "#E5ECF6",
              "width": 0.5
             },
             "pattern": {
              "fillmode": "overlay",
              "size": 10,
              "solidity": 0.2
             }
            },
            "type": "bar"
           }
          ],
          "barpolar": [
           {
            "marker": {
             "line": {
              "color": "#E5ECF6",
              "width": 0.5
             },
             "pattern": {
              "fillmode": "overlay",
              "size": 10,
              "solidity": 0.2
             }
            },
            "type": "barpolar"
           }
          ],
          "carpet": [
           {
            "aaxis": {
             "endlinecolor": "#2a3f5f",
             "gridcolor": "white",
             "linecolor": "white",
             "minorgridcolor": "white",
             "startlinecolor": "#2a3f5f"
            },
            "baxis": {
             "endlinecolor": "#2a3f5f",
             "gridcolor": "white",
             "linecolor": "white",
             "minorgridcolor": "white",
             "startlinecolor": "#2a3f5f"
            },
            "type": "carpet"
           }
          ],
          "choropleth": [
           {
            "colorbar": {
             "outlinewidth": 0,
             "ticks": ""
            },
            "type": "choropleth"
           }
          ],
          "contour": [
           {
            "colorbar": {
             "outlinewidth": 0,
             "ticks": ""
            },
            "colorscale": [
             [
              0,
              "#0d0887"
             ],
             [
              0.1111111111111111,
              "#46039f"
             ],
             [
              0.2222222222222222,
              "#7201a8"
             ],
             [
              0.3333333333333333,
              "#9c179e"
             ],
             [
              0.4444444444444444,
              "#bd3786"
             ],
             [
              0.5555555555555556,
              "#d8576b"
             ],
             [
              0.6666666666666666,
              "#ed7953"
             ],
             [
              0.7777777777777778,
              "#fb9f3a"
             ],
             [
              0.8888888888888888,
              "#fdca26"
             ],
             [
              1,
              "#f0f921"
             ]
            ],
            "type": "contour"
           }
          ],
          "contourcarpet": [
           {
            "colorbar": {
             "outlinewidth": 0,
             "ticks": ""
            },
            "type": "contourcarpet"
           }
          ],
          "heatmap": [
           {
            "colorbar": {
             "outlinewidth": 0,
             "ticks": ""
            },
            "colorscale": [
             [
              0,
              "#0d0887"
             ],
             [
              0.1111111111111111,
              "#46039f"
             ],
             [
              0.2222222222222222,
              "#7201a8"
             ],
             [
              0.3333333333333333,
              "#9c179e"
             ],
             [
              0.4444444444444444,
              "#bd3786"
             ],
             [
              0.5555555555555556,
              "#d8576b"
             ],
             [
              0.6666666666666666,
              "#ed7953"
             ],
             [
              0.7777777777777778,
              "#fb9f3a"
             ],
             [
              0.8888888888888888,
              "#fdca26"
             ],
             [
              1,
              "#f0f921"
             ]
            ],
            "type": "heatmap"
           }
          ],
          "heatmapgl": [
           {
            "colorbar": {
             "outlinewidth": 0,
             "ticks": ""
            },
            "colorscale": [
             [
              0,
              "#0d0887"
             ],
             [
              0.1111111111111111,
              "#46039f"
             ],
             [
              0.2222222222222222,
              "#7201a8"
             ],
             [
              0.3333333333333333,
              "#9c179e"
             ],
             [
              0.4444444444444444,
              "#bd3786"
             ],
             [
              0.5555555555555556,
              "#d8576b"
             ],
             [
              0.6666666666666666,
              "#ed7953"
             ],
             [
              0.7777777777777778,
              "#fb9f3a"
             ],
             [
              0.8888888888888888,
              "#fdca26"
             ],
             [
              1,
              "#f0f921"
             ]
            ],
            "type": "heatmapgl"
           }
          ],
          "histogram": [
           {
            "marker": {
             "pattern": {
              "fillmode": "overlay",
              "size": 10,
              "solidity": 0.2
             }
            },
            "type": "histogram"
           }
          ],
          "histogram2d": [
           {
            "colorbar": {
             "outlinewidth": 0,
             "ticks": ""
            },
            "colorscale": [
             [
              0,
              "#0d0887"
             ],
             [
              0.1111111111111111,
              "#46039f"
             ],
             [
              0.2222222222222222,
              "#7201a8"
             ],
             [
              0.3333333333333333,
              "#9c179e"
             ],
             [
              0.4444444444444444,
              "#bd3786"
             ],
             [
              0.5555555555555556,
              "#d8576b"
             ],
             [
              0.6666666666666666,
              "#ed7953"
             ],
             [
              0.7777777777777778,
              "#fb9f3a"
             ],
             [
              0.8888888888888888,
              "#fdca26"
             ],
             [
              1,
              "#f0f921"
             ]
            ],
            "type": "histogram2d"
           }
          ],
          "histogram2dcontour": [
           {
            "colorbar": {
             "outlinewidth": 0,
             "ticks": ""
            },
            "colorscale": [
             [
              0,
              "#0d0887"
             ],
             [
              0.1111111111111111,
              "#46039f"
             ],
             [
              0.2222222222222222,
              "#7201a8"
             ],
             [
              0.3333333333333333,
              "#9c179e"
             ],
             [
              0.4444444444444444,
              "#bd3786"
             ],
             [
              0.5555555555555556,
              "#d8576b"
             ],
             [
              0.6666666666666666,
              "#ed7953"
             ],
             [
              0.7777777777777778,
              "#fb9f3a"
             ],
             [
              0.8888888888888888,
              "#fdca26"
             ],
             [
              1,
              "#f0f921"
             ]
            ],
            "type": "histogram2dcontour"
           }
          ],
          "mesh3d": [
           {
            "colorbar": {
             "outlinewidth": 0,
             "ticks": ""
            },
            "type": "mesh3d"
           }
          ],
          "parcoords": [
           {
            "line": {
             "colorbar": {
              "outlinewidth": 0,
              "ticks": ""
             }
            },
            "type": "parcoords"
           }
          ],
          "pie": [
           {
            "automargin": true,
            "type": "pie"
           }
          ],
          "scatter": [
           {
            "fillpattern": {
             "fillmode": "overlay",
             "size": 10,
             "solidity": 0.2
            },
            "type": "scatter"
           }
          ],
          "scatter3d": [
           {
            "line": {
             "colorbar": {
              "outlinewidth": 0,
              "ticks": ""
             }
            },
            "marker": {
             "colorbar": {
              "outlinewidth": 0,
              "ticks": ""
             }
            },
            "type": "scatter3d"
           }
          ],
          "scattercarpet": [
           {
            "marker": {
             "colorbar": {
              "outlinewidth": 0,
              "ticks": ""
             }
            },
            "type": "scattercarpet"
           }
          ],
          "scattergeo": [
           {
            "marker": {
             "colorbar": {
              "outlinewidth": 0,
              "ticks": ""
             }
            },
            "type": "scattergeo"
           }
          ],
          "scattergl": [
           {
            "marker": {
             "colorbar": {
              "outlinewidth": 0,
              "ticks": ""
             }
            },
            "type": "scattergl"
           }
          ],
          "scattermapbox": [
           {
            "marker": {
             "colorbar": {
              "outlinewidth": 0,
              "ticks": ""
             }
            },
            "type": "scattermapbox"
           }
          ],
          "scatterpolar": [
           {
            "marker": {
             "colorbar": {
              "outlinewidth": 0,
              "ticks": ""
             }
            },
            "type": "scatterpolar"
           }
          ],
          "scatterpolargl": [
           {
            "marker": {
             "colorbar": {
              "outlinewidth": 0,
              "ticks": ""
             }
            },
            "type": "scatterpolargl"
           }
          ],
          "scatterternary": [
           {
            "marker": {
             "colorbar": {
              "outlinewidth": 0,
              "ticks": ""
             }
            },
            "type": "scatterternary"
           }
          ],
          "surface": [
           {
            "colorbar": {
             "outlinewidth": 0,
             "ticks": ""
            },
            "colorscale": [
             [
              0,
              "#0d0887"
             ],
             [
              0.1111111111111111,
              "#46039f"
             ],
             [
              0.2222222222222222,
              "#7201a8"
             ],
             [
              0.3333333333333333,
              "#9c179e"
             ],
             [
              0.4444444444444444,
              "#bd3786"
             ],
             [
              0.5555555555555556,
              "#d8576b"
             ],
             [
              0.6666666666666666,
              "#ed7953"
             ],
             [
              0.7777777777777778,
              "#fb9f3a"
             ],
             [
              0.8888888888888888,
              "#fdca26"
             ],
             [
              1,
              "#f0f921"
             ]
            ],
            "type": "surface"
           }
          ],
          "table": [
           {
            "cells": {
             "fill": {
              "color": "#EBF0F8"
             },
             "line": {
              "color": "white"
             }
            },
            "header": {
             "fill": {
              "color": "#C8D4E3"
             },
             "line": {
              "color": "white"
             }
            },
            "type": "table"
           }
          ]
         },
         "layout": {
          "annotationdefaults": {
           "arrowcolor": "#2a3f5f",
           "arrowhead": 0,
           "arrowwidth": 1
          },
          "autotypenumbers": "strict",
          "coloraxis": {
           "colorbar": {
            "outlinewidth": 0,
            "ticks": ""
           }
          },
          "colorscale": {
           "diverging": [
            [
             0,
             "#8e0152"
            ],
            [
             0.1,
             "#c51b7d"
            ],
            [
             0.2,
             "#de77ae"
            ],
            [
             0.3,
             "#f1b6da"
            ],
            [
             0.4,
             "#fde0ef"
            ],
            [
             0.5,
             "#f7f7f7"
            ],
            [
             0.6,
             "#e6f5d0"
            ],
            [
             0.7,
             "#b8e186"
            ],
            [
             0.8,
             "#7fbc41"
            ],
            [
             0.9,
             "#4d9221"
            ],
            [
             1,
             "#276419"
            ]
           ],
           "sequential": [
            [
             0,
             "#0d0887"
            ],
            [
             0.1111111111111111,
             "#46039f"
            ],
            [
             0.2222222222222222,
             "#7201a8"
            ],
            [
             0.3333333333333333,
             "#9c179e"
            ],
            [
             0.4444444444444444,
             "#bd3786"
            ],
            [
             0.5555555555555556,
             "#d8576b"
            ],
            [
             0.6666666666666666,
             "#ed7953"
            ],
            [
             0.7777777777777778,
             "#fb9f3a"
            ],
            [
             0.8888888888888888,
             "#fdca26"
            ],
            [
             1,
             "#f0f921"
            ]
           ],
           "sequentialminus": [
            [
             0,
             "#0d0887"
            ],
            [
             0.1111111111111111,
             "#46039f"
            ],
            [
             0.2222222222222222,
             "#7201a8"
            ],
            [
             0.3333333333333333,
             "#9c179e"
            ],
            [
             0.4444444444444444,
             "#bd3786"
            ],
            [
             0.5555555555555556,
             "#d8576b"
            ],
            [
             0.6666666666666666,
             "#ed7953"
            ],
            [
             0.7777777777777778,
             "#fb9f3a"
            ],
            [
             0.8888888888888888,
             "#fdca26"
            ],
            [
             1,
             "#f0f921"
            ]
           ]
          },
          "colorway": [
           "#636efa",
           "#EF553B",
           "#00cc96",
           "#ab63fa",
           "#FFA15A",
           "#19d3f3",
           "#FF6692",
           "#B6E880",
           "#FF97FF",
           "#FECB52"
          ],
          "font": {
           "color": "#2a3f5f"
          },
          "geo": {
           "bgcolor": "white",
           "lakecolor": "white",
           "landcolor": "#E5ECF6",
           "showlakes": true,
           "showland": true,
           "subunitcolor": "white"
          },
          "hoverlabel": {
           "align": "left"
          },
          "hovermode": "closest",
          "mapbox": {
           "style": "light"
          },
          "paper_bgcolor": "white",
          "plot_bgcolor": "#E5ECF6",
          "polar": {
           "angularaxis": {
            "gridcolor": "white",
            "linecolor": "white",
            "ticks": ""
           },
           "bgcolor": "#E5ECF6",
           "radialaxis": {
            "gridcolor": "white",
            "linecolor": "white",
            "ticks": ""
           }
          },
          "scene": {
           "xaxis": {
            "backgroundcolor": "#E5ECF6",
            "gridcolor": "white",
            "gridwidth": 2,
            "linecolor": "white",
            "showbackground": true,
            "ticks": "",
            "zerolinecolor": "white"
           },
           "yaxis": {
            "backgroundcolor": "#E5ECF6",
            "gridcolor": "white",
            "gridwidth": 2,
            "linecolor": "white",
            "showbackground": true,
            "ticks": "",
            "zerolinecolor": "white"
           },
           "zaxis": {
            "backgroundcolor": "#E5ECF6",
            "gridcolor": "white",
            "gridwidth": 2,
            "linecolor": "white",
            "showbackground": true,
            "ticks": "",
            "zerolinecolor": "white"
           }
          },
          "shapedefaults": {
           "line": {
            "color": "#2a3f5f"
           }
          },
          "ternary": {
           "aaxis": {
            "gridcolor": "white",
            "linecolor": "white",
            "ticks": ""
           },
           "baxis": {
            "gridcolor": "white",
            "linecolor": "white",
            "ticks": ""
           },
           "bgcolor": "#E5ECF6",
           "caxis": {
            "gridcolor": "white",
            "linecolor": "white",
            "ticks": ""
           }
          },
          "title": {
           "x": 0.05
          },
          "xaxis": {
           "automargin": true,
           "gridcolor": "white",
           "linecolor": "white",
           "ticks": "",
           "title": {
            "standoff": 15
           },
           "zerolinecolor": "white",
           "zerolinewidth": 2
          },
          "yaxis": {
           "automargin": true,
           "gridcolor": "white",
           "linecolor": "white",
           "ticks": "",
           "title": {
            "standoff": 15
           },
           "zerolinecolor": "white",
           "zerolinewidth": 2
          }
         }
        },
        "title": {
         "text": "AMZN Stock Signals"
        },
        "width": 1500,
        "xaxis": {
         "dtick": 86400000,
         "rangeslider": {
          "visible": false
         },
         "tick0": "2023-02-27",
         "tickformat": "%Y-%m-%d",
         "tickmode": "auto",
         "title": {
          "text": "Date"
         },
         "type": "date"
        },
        "yaxis": {
         "title": {
          "text": "Price USD ($)"
         }
        }
       }
      }
     },
     "metadata": {},
     "output_type": "display_data"
    }
   ],
   "source": [
    "# Import functions from your custom modules.\n",
    "from scripts.yahoofinance import create_dataframe\n",
    "from scripts.buysellfx import buysellfx\n",
    "from scripts.charts_export import interactive_plot_stock_signals\n",
    "from scripts.excel_export import export_df_to_excel_with_chart\n",
    "from EmailBody.emailbody import generate_email_body\n",
    "\n",
    "stock='AMZN'\n",
    "email=[\"dan@y-data.co\"]\n",
    "\n",
    "data=create_dataframe(stock)\n",
    "print(data.dtypes)\n",
    "\n",
    "fx=buysellfx(data)\n",
    "\n",
    "chart=interactive_plot_stock_signals(df=fx,tickerSymbol=stock)"
   ]
  }
 ],
 "metadata": {
  "kernelspec": {
   "display_name": "Python 3",
   "language": "python",
   "name": "python3"
  },
  "language_info": {
   "codemirror_mode": {
    "name": "ipython",
    "version": 3
   },
   "file_extension": ".py",
   "mimetype": "text/x-python",
   "name": "python",
   "nbconvert_exporter": "python",
   "pygments_lexer": "ipython3",
   "version": "3.11.2"
  }
 },
 "nbformat": 4,
 "nbformat_minor": 2
}
