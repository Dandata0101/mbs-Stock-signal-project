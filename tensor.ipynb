{
 "cells": [
  {
   "cell_type": "markdown",
   "metadata": {},
   "source": [
    "# Data Prep"
   ]
  },
  {
   "cell_type": "code",
   "execution_count": 1,
   "metadata": {},
   "outputs": [
    {
     "name": "stdout",
     "output_type": "stream",
     "text": [
      "1807466\n",
      "Separate features, target, and identifiers, ensuring group column is included in identifiers\n",
      "Performing group-based train-test split\n",
      "Normalizing data (scaling)\n",
      "Ensure the non-numeric data is concatenated back after scaling\n",
      "Transformation complete\n"
     ]
    }
   ],
   "source": [
    "from scripts_tensor.parquetreader import read_parquet_file\n",
    "from scripts_tensor.dataprep import prepare_and_split_data_grouped\n",
    "import os,sys\n",
    "import pandas as pd\n",
    "\n",
    "current_directory = os.getcwd()\n",
    "parquet_file_path = os.path.join(current_directory, 'tensor-input', 'sample_trainingdata.parquet')\n",
    "\n",
    "dfmodelstep1=read_parquet_file(parquet_file_path)\n",
    "print(dfmodelstep1.shape[0])\n",
    "\n",
    "# Assuming dfmodelstep1 is your DataFrame, 'target' is your target column\n",
    "savcols=['customer_ID','S_2']\n",
    "Target='target'\n",
    "group='customer_ID'\n",
    "\n",
    "X,X_train,X_test,X_train_scaled, X_test_scaled, y_train, y_test, identifiers_train, identifiers_test,feature_names = prepare_and_split_data_grouped(dfmodelstep1, Target,savcols, group)\n"
   ]
  },
  {
   "cell_type": "markdown",
   "metadata": {},
   "source": [
    "# Model Run"
   ]
  },
  {
   "cell_type": "code",
   "execution_count": 2,
   "metadata": {},
   "outputs": [],
   "source": [
    "import importlib\n",
    "import scripts_tensor.model_transformer \n",
    "importlib.reload(scripts_tensor.model_transformer)\n",
    "from scripts_tensor.model_transformer import create_model_with_transformer_and_train\n",
    "\n",
    "model, history, test_accuracy,y_test, y_pred,X_test_reshaped,X_train_reshaped = create_model_with_transformer_and_train(X_train_scaled,y_train, X_test_scaled, y_test)"
   ]
  },
  {
   "cell_type": "markdown",
   "metadata": {},
   "source": [
    "# Tensorboard"
   ]
  },
  {
   "cell_type": "code",
   "execution_count": null,
   "metadata": {},
   "outputs": [],
   "source": [
    "# Load the TensorBoard notebook extension\n",
    "%load_ext tensorboard\n",
    "\n",
    "# Start TensorBoard within the notebook using the directory where the logs are stored\n",
    "%tensorboard --logdir logs/fit"
   ]
  },
  {
   "cell_type": "markdown",
   "metadata": {},
   "source": [
    "# Performance and Confusion Matrix"
   ]
  },
  {
   "cell_type": "code",
   "execution_count": null,
   "metadata": {},
   "outputs": [],
   "source": [
    "import importlib\n",
    "import scripts_tensor.charting as charting_module\n",
    "importlib.reload(charting_module)\n",
    "from scripts_tensor.charting import plot_model_loss, plot_confusion_matrix, interactive_confusion_matrix\n",
    "\n",
    "plot_model_loss(history.history['loss'], history.history.get('val_loss', None))\n",
    "plot_confusion_matrix(y_test, y_pred)"
   ]
  },
  {
   "cell_type": "markdown",
   "metadata": {},
   "source": [
    "# Top Features"
   ]
  },
  {
   "cell_type": "code",
   "execution_count": null,
   "metadata": {},
   "outputs": [],
   "source": [
    "import importlib\n",
    "import scripts_tensor.topfeatures as topfeatures\n",
    "importlib.reload(topfeatures)\n",
    "from scripts_tensor.topfeatures import fit_and_plot_logistic_regression\n",
    "\n",
    "from scripts_tensor.topfeatures import fit_and_plot_logistic_regression\n",
    "fit_and_plot_logistic_regression(X_train, X_test, y_train, y_test,feature_names,max_iter=1000, top_features=20)\n"
   ]
  }
 ],
 "metadata": {
  "kernelspec": {
   "display_name": "new_env",
   "language": "python",
   "name": "python3"
  },
  "language_info": {
   "codemirror_mode": {
    "name": "ipython",
    "version": 3
   },
   "file_extension": ".py",
   "mimetype": "text/x-python",
   "name": "python",
   "nbconvert_exporter": "python",
   "pygments_lexer": "ipython3",
   "version": "3.11.2"
  }
 },
 "nbformat": 4,
 "nbformat_minor": 2
}
