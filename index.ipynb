{
 "cells": [
  {
   "cell_type": "markdown",
   "metadata": {},
   "source": [
    "# Calling Yahoo finance Stock extraction Package"
   ]
  },
  {
   "cell_type": "code",
   "execution_count": 1,
   "metadata": {},
   "outputs": [
    {
     "name": "stdout",
     "output_type": "stream",
     "text": [
      "\n",
      "\n",
      "1.1) starting stock data extraction\n",
      "~~~~~~~~~~~~~\n",
      "Open            float64\n",
      "High            float64\n",
      "Low             float64\n",
      "Close           float64\n",
      "Volume            int64\n",
      "Dividends       float64\n",
      "Stock Splits    float64\n",
      "dtype: object\n",
      "~~~~~~~~~~~~~\n",
      "\n",
      "1.2) Extraction completed\n",
      "\n"
     ]
    }
   ],
   "source": [
    "import sys\n",
    "# Remove the module from sys.modules\n",
    "if 'scripts.yahoofinance' in sys.modules:\n",
    "    del sys.modules['scripts.yahoofinance']\n",
    "\n",
    "# Re-import the module\n",
    "import scripts.yahoofinance"
   ]
  },
  {
   "cell_type": "markdown",
   "metadata": {},
   "source": [
    "# Calling Buy/Sell Fuction Package"
   ]
  },
  {
   "cell_type": "code",
   "execution_count": 2,
   "metadata": {},
   "outputs": [
    {
     "name": "stdout",
     "output_type": "stream",
     "text": [
      "/Users/danramirez/mbs-Stock-singal-project\n",
      "2.1) Loading buy/seel function and yahoo finance dataframe\n",
      "2.2) adding rolling averages\n",
      "2.3) running buy/sell funcntion\n",
      "2.4) function run completed\n",
      "2.5) updated dataframe saved\n"
     ]
    }
   ],
   "source": [
    "import sys\n",
    "# Remove the module from sys.modules\n",
    "if 'scripts.buysellfx' in sys.modules:\n",
    "    del sys.modules['scripts.buysellfx']\n",
    "\n",
    "# Re-import the module\n",
    "import scripts.buysellfx"
   ]
  },
  {
   "cell_type": "markdown",
   "metadata": {},
   "source": [
    "# Calling Chart Creation Package"
   ]
  },
  {
   "cell_type": "code",
   "execution_count": 3,
   "metadata": {},
   "outputs": [
    {
     "name": "stdout",
     "output_type": "stream",
     "text": [
      "3.1) load final dataframe\n",
      "\n",
      "~~~~~~~~~~~~~\n",
      "Open            float64\n",
      "High            float64\n",
      "Low             float64\n",
      "Close           float64\n",
      "Volume            int64\n",
      "Dividends       float64\n",
      "Stock Splits    float64\n",
      "close_short     float64\n",
      "close_long      float64\n",
      "pricebuy        float64\n",
      "pricesell       float64\n",
      "profit          float64\n",
      "transdays       float64\n",
      "dtype: object\n",
      "~~~~~~~~~~~~~\n",
      "\n",
      "3.1) export chart image\n"
     ]
    }
   ],
   "source": [
    "import sys\n",
    "# Remove the module from sys.modules\n",
    "if 'scripts.charts_export' in sys.modules:\n",
    "    del sys.modules['scripts.charts_export']\n",
    "\n",
    "# Re-import the module\n",
    "import scripts.charts_export"
   ]
  },
  {
   "cell_type": "markdown",
   "metadata": {},
   "source": [
    "# Calling Excel Export Package"
   ]
  },
  {
   "cell_type": "code",
   "execution_count": 4,
   "metadata": {},
   "outputs": [
    {
     "name": "stdout",
     "output_type": "stream",
     "text": [
      "4.1) prepping chart and excel export\n",
      "4.2) excel export completed\n"
     ]
    }
   ],
   "source": [
    "import sys\n",
    "# Remove the module from sys.modules\n",
    "if 'scripts.excel_export' in sys.modules:\n",
    "    del sys.modules['scripts.excel_export']\n",
    "\n",
    "# Re-import the module\n",
    "import scripts.excel_export"
   ]
  },
  {
   "cell_type": "markdown",
   "metadata": {},
   "source": [
    "# Calling Send email package"
   ]
  },
  {
   "cell_type": "code",
   "execution_count": 5,
   "metadata": {},
   "outputs": [
    {
     "name": "stdout",
     "output_type": "stream",
     "text": [
      "\u001b[H\u001b[2J/Users/danramirez/mbs-Stock-singal-project\n",
      "Email sent successfully.\n"
     ]
    }
   ],
   "source": [
    "import importlib\n",
    "import sys\n",
    "\n",
    "# Check if the module is already imported\n",
    "if 'scripts.sendemail' in sys.modules:\n",
    "    # Reload the module using importlib\n",
    "    importlib.reload(sys.modules['scripts.sendemail'])\n",
    "else:\n",
    "    # If the module is not already imported, import it normally\n",
    "    import scripts.sendemail\n"
   ]
  }
 ],
 "metadata": {
  "kernelspec": {
   "display_name": "Python 3",
   "language": "python",
   "name": "python3"
  },
  "language_info": {
   "codemirror_mode": {
    "name": "ipython",
    "version": 3
   },
   "file_extension": ".py",
   "mimetype": "text/x-python",
   "name": "python",
   "nbconvert_exporter": "python",
   "pygments_lexer": "ipython3",
   "version": "3.11.2"
  }
 },
 "nbformat": 4,
 "nbformat_minor": 2
}
