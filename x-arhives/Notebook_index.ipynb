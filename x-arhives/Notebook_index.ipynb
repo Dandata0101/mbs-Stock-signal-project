{
 "cells": [
  {
   "cell_type": "markdown",
   "metadata": {},
   "source": [
    "# Calling Yahoo finance Stock extraction Package"
   ]
  },
  {
   "cell_type": "code",
   "execution_count": null,
   "metadata": {},
   "outputs": [],
   "source": [
    "import sys\n",
    "# Remove the module from sys.modules\n",
    "if 'scripts.yahoofinance' in sys.modules:\n",
    "    del sys.modules['scripts.yahoofinance']\n",
    "\n",
    "# Re-import the module\n",
    "import scripts.yahoofinance"
   ]
  },
  {
   "cell_type": "markdown",
   "metadata": {},
   "source": [
    "# Calling Buy/Sell Fuction Package"
   ]
  },
  {
   "cell_type": "code",
   "execution_count": null,
   "metadata": {},
   "outputs": [],
   "source": [
    "import sys\n",
    "# Remove the module from sys.modules\n",
    "if 'scripts.buysellfx' in sys.modules:\n",
    "    del sys.modules['scripts.buysellfx']\n",
    "\n",
    "# Re-import the module\n",
    "import scripts.buysellfx"
   ]
  },
  {
   "cell_type": "markdown",
   "metadata": {},
   "source": [
    "# Calling Chart Creation Package"
   ]
  },
  {
   "cell_type": "code",
   "execution_count": null,
   "metadata": {},
   "outputs": [],
   "source": [
    "import sys\n",
    "# Remove the module from sys.modules\n",
    "if 'scripts.charts_export' in sys.modules:\n",
    "    del sys.modules['scripts.charts_export']\n",
    "\n",
    "# Re-import the module\n",
    "import scripts.charts_export"
   ]
  },
  {
   "cell_type": "markdown",
   "metadata": {},
   "source": [
    "# Calling Excel Export Package"
   ]
  },
  {
   "cell_type": "code",
   "execution_count": null,
   "metadata": {},
   "outputs": [],
   "source": [
    "import sys\n",
    "# Remove the module from sys.modules\n",
    "if 'scripts.excel_export' in sys.modules:\n",
    "    del sys.modules['scripts.excel_export']\n",
    "\n",
    "# Re-import the module\n",
    "import scripts.excel_export"
   ]
  },
  {
   "cell_type": "markdown",
   "metadata": {},
   "source": [
    "# Calling Send email package"
   ]
  },
  {
   "cell_type": "code",
   "execution_count": null,
   "metadata": {},
   "outputs": [],
   "source": [
    "#Note:Emails requires Client Ids and Secret key for Microsoft Azure\n",
    "#See pw-config-copy.ini' in the 01-config directory, rename to 'pw.config.ini' and add needed credentials and keys.\n",
    "\n",
    "import sys\n",
    "# Remove the module from sys.modules\n",
    "if 'scripts.sendemail' in sys.modules:\n",
    "    del sys.modules['scripts.sendemail']\n",
    "\n",
    "# Re-import the module\n",
    "import scripts.sendemail"
   ]
  },
  {
   "cell_type": "code",
   "execution_count": 3,
   "metadata": {},
   "outputs": [
    {
     "ename": "ModuleNotFoundError",
     "evalue": "No module named 'scripts'",
     "output_type": "error",
     "traceback": [
      "\u001b[0;31m---------------------------------------------------------------------------\u001b[0m",
      "\u001b[0;31mModuleNotFoundError\u001b[0m                       Traceback (most recent call last)",
      "Cell \u001b[0;32mIn[3], line 2\u001b[0m\n\u001b[1;32m      1\u001b[0m \u001b[38;5;66;03m# Import functions from your custom modules.\u001b[39;00m\n\u001b[0;32m----> 2\u001b[0m \u001b[38;5;28;01mfrom\u001b[39;00m \u001b[38;5;21;01mscripts\u001b[39;00m\u001b[38;5;21;01m.\u001b[39;00m\u001b[38;5;21;01myahoofinance\u001b[39;00m \u001b[38;5;28;01mimport\u001b[39;00m create_dataframe\n\u001b[1;32m      3\u001b[0m \u001b[38;5;28;01mfrom\u001b[39;00m \u001b[38;5;21;01mscripts\u001b[39;00m\u001b[38;5;21;01m.\u001b[39;00m\u001b[38;5;21;01mbuysellfx\u001b[39;00m \u001b[38;5;28;01mimport\u001b[39;00m buysellfx\n\u001b[1;32m      4\u001b[0m \u001b[38;5;28;01mfrom\u001b[39;00m \u001b[38;5;21;01mscripts\u001b[39;00m\u001b[38;5;21;01m.\u001b[39;00m\u001b[38;5;21;01mcharts_export\u001b[39;00m \u001b[38;5;28;01mimport\u001b[39;00m plot_stock_signals,new_plot_stock_signals\n",
      "\u001b[0;31mModuleNotFoundError\u001b[0m: No module named 'scripts'"
     ]
    }
   ],
   "source": [
    "# Import functions from your custom modules.\n",
    "from scripts.yahoofinance import create_dataframe\n",
    "from scripts.buysellfx import buysellfx\n",
    "from scripts.charts_export import plot_stock_signals,new_plot_stock_signals\n",
    "from scripts.excel_export import export_df_to_excel_with_chart\n",
    "from EmailBody.emailbody import generate_email_body\n",
    "from scripts.sendemail import send_email\n",
    "\n",
    "stock='AMZN'\n",
    "email=[\"dan@y-data.co\"]\n",
    "\n",
    "data=create_dataframe(stock)\n",
    "print(data.dtypes)\n",
    "\n",
    "fx=buysellfx(data)\n",
    "print(data.dtypes)\n",
    "\n",
    "newchart=new_plot_stock_signals(df=fx,tickerSymbol=stock)\n",
    "chart=plot_stock_signals(df=fx,tickerSymbol=stock)\n",
    "export=export_df_to_excel_with_chart(df=fx,tickerSymbol=stock)\n",
    "\n",
    "\n",
    "#Body=generate_email_body(tickerSymbol=stock)\n",
    "#send=send_email(email_body=Body,recipient_emails=email)\n",
    "\n",
    "\n"
   ]
  }
 ],
 "metadata": {
  "kernelspec": {
   "display_name": "Python 3",
   "language": "python",
   "name": "python3"
  },
  "language_info": {
   "codemirror_mode": {
    "name": "ipython",
    "version": 3
   },
   "file_extension": ".py",
   "mimetype": "text/x-python",
   "name": "python",
   "nbconvert_exporter": "python",
   "pygments_lexer": "ipython3",
   "version": "3.11.2"
  }
 },
 "nbformat": 4,
 "nbformat_minor": 2
}
