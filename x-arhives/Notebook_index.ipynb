{
 "cells": [
  {
   "cell_type": "markdown",
   "metadata": {},
   "source": [
    "# Calling Yahoo finance Stock extraction Package"
   ]
  },
  {
   "cell_type": "code",
   "execution_count": 27,
   "metadata": {},
   "outputs": [],
   "source": [
    "import sys\n",
    "# Remove the module from sys.modules\n",
    "if 'scripts.yahoofinance' in sys.modules:\n",
    "    del sys.modules['scripts.yahoofinance']\n",
    "\n",
    "# Re-import the module\n",
    "import scripts.yahoofinance"
   ]
  },
  {
   "cell_type": "markdown",
   "metadata": {},
   "source": [
    "# Calling Buy/Sell Fuction Package"
   ]
  },
  {
   "cell_type": "code",
   "execution_count": 31,
   "metadata": {},
   "outputs": [
    {
     "name": "stdout",
     "output_type": "stream",
     "text": [
      "\u001b[H\u001b[2J\n",
      "\n",
      "1.1) starting stock data extraction\n",
      "~~~~~~~~~~~~~\n",
      "Open            float64\n",
      "High            float64\n",
      "Low             float64\n",
      "Close           float64\n",
      "Volume            int64\n",
      "Dividends       float64\n",
      "Stock Splits    float64\n",
      "dtype: object\n",
      "~~~~~~~~~~~~~\n",
      "\n",
      "1.2) Extraction completed\n",
      "\n"
     ]
    }
   ],
   "source": [
    "import sys\n",
    "# Remove the module from sys.modules\n",
    "if 'scripts.buysellfx' in sys.modules:\n",
    "    del sys.modules['scripts.buysellfx']\n",
    "\n",
    "# Re-import the module\n",
    "import scripts.buysellfx"
   ]
  },
  {
   "cell_type": "markdown",
   "metadata": {},
   "source": [
    "# Calling Chart Creation Package"
   ]
  },
  {
   "cell_type": "code",
   "execution_count": 29,
   "metadata": {},
   "outputs": [],
   "source": [
    "import sys\n",
    "# Remove the module from sys.modules\n",
    "if 'scripts.charts_export' in sys.modules:\n",
    "    del sys.modules['scripts.charts_export']\n",
    "\n",
    "# Re-import the module\n",
    "import scripts.charts_export"
   ]
  },
  {
   "cell_type": "markdown",
   "metadata": {},
   "source": [
    "# Calling Excel Export Package"
   ]
  },
  {
   "cell_type": "code",
   "execution_count": 30,
   "metadata": {},
   "outputs": [
    {
     "ename": "ImportError",
     "evalue": "cannot import name 'tickerSymbol' from 'scripts.buysellfx' (/Users/danramirez/mbs-Stock-singal-project/scripts/buysellfx.py)",
     "output_type": "error",
     "traceback": [
      "\u001b[0;31m---------------------------------------------------------------------------\u001b[0m",
      "\u001b[0;31mImportError\u001b[0m                               Traceback (most recent call last)",
      "Cell \u001b[0;32mIn[30], line 7\u001b[0m\n\u001b[1;32m      4\u001b[0m     \u001b[38;5;28;01mdel\u001b[39;00m sys\u001b[38;5;241m.\u001b[39mmodules[\u001b[38;5;124m'\u001b[39m\u001b[38;5;124mscripts.excel_export\u001b[39m\u001b[38;5;124m'\u001b[39m]\n\u001b[1;32m      6\u001b[0m \u001b[38;5;66;03m# Re-import the module\u001b[39;00m\n\u001b[0;32m----> 7\u001b[0m \u001b[38;5;28;01mimport\u001b[39;00m \u001b[38;5;21;01mscripts\u001b[39;00m\u001b[38;5;21;01m.\u001b[39;00m\u001b[38;5;21;01mexcel_export\u001b[39;00m\n",
      "File \u001b[0;32m~/mbs-Stock-singal-project/scripts/excel_export.py:11\u001b[0m\n\u001b[1;32m      9\u001b[0m \u001b[38;5;28;01mfrom\u001b[39;00m \u001b[38;5;21;01mopenpyxl\u001b[39;00m\u001b[38;5;21;01m.\u001b[39;00m\u001b[38;5;21;01mutils\u001b[39;00m\u001b[38;5;21;01m.\u001b[39;00m\u001b[38;5;21;01mdataframe\u001b[39;00m \u001b[38;5;28;01mimport\u001b[39;00m dataframe_to_rows\n\u001b[1;32m     10\u001b[0m \u001b[38;5;28;01mfrom\u001b[39;00m \u001b[38;5;21;01mopenpyxl\u001b[39;00m\u001b[38;5;21;01m.\u001b[39;00m\u001b[38;5;21;01mutils\u001b[39;00m \u001b[38;5;28;01mimport\u001b[39;00m get_column_letter\n\u001b[0;32m---> 11\u001b[0m \u001b[38;5;28;01mfrom\u001b[39;00m \u001b[38;5;21;01mscripts\u001b[39;00m\u001b[38;5;21;01m.\u001b[39;00m\u001b[38;5;21;01mbuysellfx\u001b[39;00m \u001b[38;5;28;01mimport\u001b[39;00m df,tickerSymbol\n\u001b[1;32m     12\u001b[0m dfstock\u001b[38;5;241m=\u001b[39mdf\n\u001b[1;32m     14\u001b[0m \u001b[38;5;28mprint\u001b[39m(\u001b[38;5;124m'\u001b[39m\u001b[38;5;124m4.1) prepping chart and excel export\u001b[39m\u001b[38;5;124m'\u001b[39m)\n",
      "\u001b[0;31mImportError\u001b[0m: cannot import name 'tickerSymbol' from 'scripts.buysellfx' (/Users/danramirez/mbs-Stock-singal-project/scripts/buysellfx.py)"
     ]
    }
   ],
   "source": [
    "import sys\n",
    "# Remove the module from sys.modules\n",
    "if 'scripts.excel_export' in sys.modules:\n",
    "    del sys.modules['scripts.excel_export']\n",
    "\n",
    "# Re-import the module\n",
    "import scripts.excel_export"
   ]
  },
  {
   "cell_type": "markdown",
   "metadata": {},
   "source": [
    "# Calling Send email package"
   ]
  },
  {
   "cell_type": "code",
   "execution_count": null,
   "metadata": {},
   "outputs": [],
   "source": [
    "#Note:Emails requires Client Ids and Secret key for Microsoft Azure\n",
    "#See pw-config-copy.ini' in the 01-config directory, rename to 'pw.config.ini' and add needed credentials and keys.\n",
    "\n",
    "import sys\n",
    "# Remove the module from sys.modules\n",
    "if 'scripts.sendemail' in sys.modules:\n",
    "    del sys.modules['scripts.sendemail']\n",
    "\n",
    "# Re-import the module\n",
    "import scripts.sendemail"
   ]
  }
 ],
 "metadata": {
  "kernelspec": {
   "display_name": "Python 3",
   "language": "python",
   "name": "python3"
  },
  "language_info": {
   "codemirror_mode": {
    "name": "ipython",
    "version": 3
   },
   "file_extension": ".py",
   "mimetype": "text/x-python",
   "name": "python",
   "nbconvert_exporter": "python",
   "pygments_lexer": "ipython3",
   "version": "3.11.2"
  }
 },
 "nbformat": 4,
 "nbformat_minor": 2
}
